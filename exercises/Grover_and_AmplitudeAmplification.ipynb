{
 "cells": [
  {
   "cell_type": "markdown",
   "id": "eb398ded",
   "metadata": {},
   "source": [
    "# The Grover Search Algorithm\n",
    "\n",
    "## MITP 2023\n",
    "\n",
    "Grover's algorithm is one of the most famous quantum algorithms [1], and was initially designed as a search algorithm for unstructured datasets, achieving a quadratic speedup over classical approaches. A generalised version of the Grover algorithm, Amplitude Amplification and Estimation [2], has since been used as a subroutine in many quantum algorithms.  \n",
    "\n",
    "Database search algorithms can be applied to a broad range problems in High Energy Physics, and therefore the Grover algorithm is of great interest to the QCHEP community. Here we will show a simple example of the Grover algorithm: searching for a marked element in an unstructed datase. In this notebook, we will use Qiskit. If you get stuck, see the Introduction to Quantum Computing notebook."
   ]
  },
  {
   "cell_type": "code",
   "execution_count": 1,
   "id": "29806cec",
   "metadata": {},
   "outputs": [],
   "source": [
    "from qiskit import (QuantumCircuit, QuantumRegister, ClassicalRegister, Aer, execute)\n",
    "from qiskit.tools.monitor import job_monitor\n",
    "from qiskit.visualization import *\n",
    "\n",
    "### Define the backend we will use\n",
    "sim = Aer.get_backend('qasm_simulator')"
   ]
  },
  {
   "cell_type": "markdown",
   "id": "28c5a775",
   "metadata": {},
   "source": [
    "## Database search\n",
    "\n",
    "The aim of the Grover search algorithm is to find one or more *marked* elements in an unstructured database. To do this, we define an oracle $f(x)$ which returns identify if $x=\\omega$ and zero otherwise. \n",
    "\n",
    "Classically, one can only find the marked elements by the *brute force* method, requiring $\\mathcal{O}(N)$ calls of the oracle for a dataset of $N$ elements with one marked element. The Grover algorithm is an optimial quantum algorithm which can achieve a polynomial speedup, requiring $\\mathcal{O}(\\sqrt{N})$ queries of the oracle to successfully identify the marked state. "
   ]
  },
  {
   "cell_type": "markdown",
   "id": "8930c3d0",
   "metadata": {},
   "source": [
    "In the quantum regime, the oracle is a unitary operation $U_f$ which, when applied to the computational basis, acts on the system as\n",
    "\n",
    "$$\n",
    "U_f : \\vert x \\rangle \\otimes \\vert q \\rangle \\rightarrow \\vert x \\rangle \\otimes \\vert q \\oplus f(x) \\rangle,\n",
    "$$\n",
    "\n",
    "where $\\vert x \\rangle$ is the input register and $\\vert q \\rangle$ is the oracle qubit, which is flipped if and only if $f(x)=1$. Consequently, we can check if $x$ is the marked element by initialising the system in the $\\vert x \\rangle \\vert 0 \\rangle$ state and measuring $\\vert q \\rangle$ at the end of the algorithm. If $\\vert q \\rangle$ is in the 1 state, then $x$ is the marked element. \n",
    "\n",
    "### Exercise: \n",
    "\n",
    "Try coding up an example of this approach by filling in the blanks below. Search a database of 8 elements, encoded on a 3 qubit basis. Does it achieve a speedup?"
   ]
  },
  {
   "cell_type": "code",
   "execution_count": null,
   "id": "6e83d91d",
   "metadata": {},
   "outputs": [],
   "source": [
    "x    = QuantumRegister(...)\n",
    "q    = QuantumRegister(...)\n",
    "qc   = ClassicalRegister(...)\n",
    "circ = QuantumCircuit(...)\n",
    "    \n",
    "#\n",
    "#\n",
    "# Your circuit here\n",
    "#\n",
    "#\n",
    "\n",
    "circ.measure(...)\n",
    "circ.draw('mpl')"
   ]
  },
  {
   "cell_type": "code",
   "execution_count": null,
   "id": "6a53a5df",
   "metadata": {},
   "outputs": [],
   "source": [
    "job = execute(circ, sim, shots=1000)\n",
    "job_monitor(job)\n",
    "counts = job.result().get_counts()\n",
    "plot_histogram(counts)"
   ]
  },
  {
   "cell_type": "markdown",
   "id": "1d5c48ce",
   "metadata": {},
   "source": [
    "Hints: \n",
    "\n",
    "- You need to initilise your $x$ register. What is the optimal way of doing this? How to best utilise the properties of the quantum device. \n",
    "- You then need to construct an oracle which will update $\\vert q \\rangle$ only when x = w. \n",
    "\n",
    "If you struggle, below there is an example of the Amplitude Amplification approach to the Grover algorithm. "
   ]
  },
  {
   "cell_type": "markdown",
   "id": "2c0f2368",
   "metadata": {},
   "source": [
    "### Achieving the speedup\n",
    "\n",
    "The above method has yet to unlock the speedup as one would need to go one by one and encode each element in the data base and perform the orcale transformation, again requiring $\\mathcal{O}(N)$ queries of the oracle. \n",
    "\n",
    "To unlock the speedup, we need to move to the quantum paradigm and make use of superposition states. Here we initialise the oracle qubit $\\vert q \\rangle$ in the $\\vert - \\rangle = (\\vert 0 \\rangle -\\vert 1\\rangle)/\\sqrt{2}$ state, such that the action of the oracle is now\n",
    "\n",
    "$$\n",
    "U_f : \\vert x \\rangle \\Bigg[ \\frac{1}{\\sqrt{2}} \\big( \\vert 0 \\rangle - \\vert 1 \\rangle \\big) \\Bigg] \\rightarrow (-1)^{f(x)} \\vert x \\rangle \\Bigg[ \\frac{1}{\\sqrt{2}} \\big( \\vert 0 \\rangle - \\vert 1 \\rangle \\big) \\Bigg].\n",
    "$$\n",
    "\n",
    "Therefore, if $x=w$ then a negative phase is applied to the whole system, leaving the $\\vert - \\rangle$ state unchanged. Thus, for simplicity, we can omit the oracle qubit and define the oracle operation as \n",
    "\n",
    "$$\n",
    "U_f : \\vert x \\rangle \\rightarrow (-1)^{f(x)} \\vert x \\rangle.\n",
    "$$\n",
    "\n",
    "Thus the oracle *marks* the solution to our search problem with a negative phase. "
   ]
  },
  {
   "cell_type": "markdown",
   "id": "d8cd5748",
   "metadata": {},
   "source": [
    "### Circuit build\n",
    "\n",
    "Below we build the circuit for a simple search of a database of 8 elements. We have identified that the state we are looking for is the $\\vert 010 \\rangle$. "
   ]
  },
  {
   "cell_type": "code",
   "execution_count": 2,
   "id": "175949fc",
   "metadata": {},
   "outputs": [
    {
     "data": {
      "image/png": "[encoded data removed]",
      "text/plain": [
       "<Figure size 1349.93x325.08 with 1 Axes>"
      ]
     },
     "execution_count": 2,
     "metadata": {},
     "output_type": "execute_result"
    }
   ],
   "source": [
    "good_state = [0,1,0]\n",
    "\n",
    "x  = QuantumRegister(3, name='x')\n",
    "xc = ClassicalRegister(3, name='xc')\n",
    "q  = QuantumRegister(1, name='q')\n",
    "\n",
    "circuit = QuantumCircuit(x, q, xc)\n",
    "\n",
    "### Initialise the system in |0>|->\n",
    "circuit.x(q)\n",
    "circuit.h(q)\n",
    "circuit.barrier()\n",
    "\n",
    "### Basis encoding of the database\n",
    "circuit.h(x)\n",
    "circuit.barrier()\n",
    "\n",
    "### Oracle: build oracle for finding the good_state\n",
    "for i in range(len(good_state)):\n",
    "    if good_state[i] == 0:\n",
    "        circuit.x(x[i])\n",
    "circuit.mct(x, q)\n",
    "for i in range(len(good_state)):\n",
    "    if good_state[i] == 0:\n",
    "        circuit.x(x[i])\n",
    "circuit.barrier()\n",
    "\n",
    "### Diffuser\n",
    "circuit.h(x)\n",
    "circuit.x(x)\n",
    "circuit.h(x[-1])\n",
    "circuit.mct(x[:-1],x[-1])\n",
    "circuit.h(x[-1])\n",
    "circuit.x(x)\n",
    "circuit.h(x)\n",
    "circuit.barrier()\n",
    "\n",
    "circuit.h(q)\n",
    "circuit.measure(x, xc)\n",
    "circuit.draw('mpl')"
   ]
  },
  {
   "cell_type": "markdown",
   "id": "e42d3575",
   "metadata": {},
   "source": [
    "Here we have split the circuit up into slices separated by barriers:\n",
    "\n",
    "1. We set up our problem by initialising the system as \n",
    "\n",
    "$$\n",
    "\\vert \\psi\\rangle = \\vert x \\rangle \\vert q \\rangle = \\vert 000 \\rangle \\vert - \\rangle.\n",
    "$$\n",
    "\n",
    "2. We then need to embed the database onto the quantum device. Here we use basis embedding and encode the state as 8 binary bit strings. We can embed the database using a series of Hadamard gates applied to all qubits in the $x$ register, putting the register into a linear superposition of all possible basis states. \n",
    "\n",
    "3. The next step is to build the oracle that will find our marked state. We flip the $q$ qubit if and only if the orcale controls from our `good_state`, exploiting [phase kickback](https://medium.com/quantum-untangled/a-clever-quantum-trick-54f27e2518a4) to mark the state.\n",
    "\n",
    "4. Now that we have marked the state with a negative phase, we need to *rotate* the initial state towards the target state, i.e. perfrom a rotation on all states such that the target state is amplified. We do this by applying an operation of the form $\\vert \\psi \\rangle \\langle \\psi \\vert - \\mathbb{I}$. This step is often called diffusion. See [here](https://quantum-computing.ibm.com/composer/docs/iqx/guide/grovers-algorithm) for a detailed discussion of the geometric approach to Grover's algorithm. \n",
    "\n",
    "5. Finally we measure the $x$ register. \n",
    "\n",
    "We now run the algorithm on the quantum simulator"
   ]
  },
  {
   "cell_type": "code",
   "execution_count": 3,
   "id": "45ca8fd2",
   "metadata": {},
   "outputs": [
    {
     "name": "stdout",
     "output_type": "stream",
     "text": [
      "\r",
      "Job Status: job has successfully run\n"
     ]
    },
    {
     "data": {
      "image/png": "[encoded data removed]",
      "text/plain": [
       "<Figure size 504x360 with 1 Axes>"
      ]
     },
     "execution_count": 3,
     "metadata": {},
     "output_type": "execute_result"
    }
   ],
   "source": [
    "job = execute(circuit, sim, shots=1000)\n",
    "job_monitor(job)\n",
    "counts = job.result().get_counts()\n",
    "plot_histogram(counts)"
   ]
  },
  {
   "cell_type": "markdown",
   "id": "b0aae950",
   "metadata": {},
   "source": [
    "We see that the target state has been amplified such that we can identify the state with close to certainty. "
   ]
  },
  {
   "cell_type": "markdown",
   "id": "fe3b0db1",
   "metadata": {},
   "source": [
    "## Excercise: picking your oracle\n",
    "\n",
    "We have seen above that the oracle allows us to amplify the $\\vert 010 \\rangle$ state using the oracle"
   ]
  },
  {
   "cell_type": "code",
   "execution_count": 4,
   "id": "5e90ca6a",
   "metadata": {},
   "outputs": [
    {
     "data": {
      "image/png": "[encoded data removed]",
      "text/plain": [
       "<Figure size 267.197x264.88 with 1 Axes>"
      ]
     },
     "execution_count": 4,
     "metadata": {},
     "output_type": "execute_result"
    }
   ],
   "source": [
    "oracle = QuantumCircuit(4)\n",
    "\n",
    "oracle.x(0)\n",
    "oracle.x(2)\n",
    "oracle.mct([0,1,2], 3)\n",
    "oracle.x(0)\n",
    "oracle.x(2)\n",
    "oracle.draw('mpl')"
   ]
  },
  {
   "cell_type": "markdown",
   "id": "ebf94cb6",
   "metadata": {},
   "source": [
    "The construction of the oracle is the most important part of the search algorithm, and of many quantum algorithms. Can you construct an oracle which will find other states in our 8 basis states? How does the oracle really mark the state?"
   ]
  },
  {
   "cell_type": "code",
   "execution_count": 9,
   "id": "305236b5",
   "metadata": {},
   "outputs": [
    {
     "data": {
      "image/png": "[encoded data removed]",
      "text/plain": [
       "<Figure size 1349.93x325.08 with 1 Axes>"
      ]
     },
     "execution_count": 9,
     "metadata": {},
     "output_type": "execute_result"
    }
   ],
   "source": [
    "orc_circ = QuantumCircuit(x, q, xc)\n",
    "\n",
    "### Initialise the system in |0>|->\n",
    "orc_circ.x(q)\n",
    "orc_circ.h(q)\n",
    "orc_circ.barrier()\n",
    "\n",
    "### Basis encoding of the database\n",
    "orc_circ.h(x)\n",
    "orc_circ.barrier()\n",
    "\n",
    "### Oracle: build oracle for finding the good_state\n",
    "orc_circ.x(x)\n",
    "orc_circ.mct(x, q)\n",
    "orc_circ.x(x)\n",
    "orc_circ.barrier()\n",
    "\n",
    "### Diffuser\n",
    "orc_circ.h(x)\n",
    "orc_circ.x(x)\n",
    "orc_circ.h(x[-1])\n",
    "orc_circ.mct(x[:-1],x[-1])\n",
    "orc_circ.h(x[-1])\n",
    "orc_circ.x(x)\n",
    "orc_circ.h(x)\n",
    "orc_circ.barrier()\n",
    "\n",
    "orc_circ.h(q)\n",
    "orc_circ.measure(x, xc)\n",
    "orc_circ.draw('mpl')"
   ]
  },
  {
   "cell_type": "code",
   "execution_count": 10,
   "id": "6387451e",
   "metadata": {},
   "outputs": [
    {
     "name": "stdout",
     "output_type": "stream",
     "text": [
      "Job Status: job has successfully run\n"
     ]
    },
    {
     "data": {
      "image/png": "[encoded data removed]",
      "text/plain": [
       "<Figure size 504x360 with 1 Axes>"
      ]
     },
     "execution_count": 10,
     "metadata": {},
     "output_type": "execute_result"
    }
   ],
   "source": [
    "job = execute(orc_circ, sim, shots=1000)\n",
    "job_monitor(job)\n",
    "counts = job.result().get_counts()\n",
    "plot_histogram(counts)"
   ]
  },
  {
   "cell_type": "markdown",
   "id": "92ac8330",
   "metadata": {},
   "source": [
    "## Exercise: reducing qubit number\n",
    "\n",
    "The above can be simplified even further by utilising more of the gate operations on offer to NISQ devices. Can you remove the need to have an oracle workspace and qubit? \n",
    "\n",
    "Hint: think about the effect that the oracle has on the state for the algorithm above. Can this be replaced?"
   ]
  },
  {
   "cell_type": "code",
   "execution_count": null,
   "id": "654422a2",
   "metadata": {},
   "outputs": [],
   "source": [
    "x        = QuantumRegister(3, name='x')\n",
    "xc       = ClassicalRegister(3, name='xc')\n",
    "red_circ = QuantumCircuit(x, xc)\n",
    "\n",
    "### Data embedding \n",
    "\n",
    "#\n",
    "# Your code here\n",
    "#\n",
    "\n",
    "### Oracle\n",
    "\n",
    "#\n",
    "# Your code here\n",
    "#\n",
    "\n",
    "### Diffuse\n",
    "\n",
    "#\n",
    "# Your code here\n",
    "#"
   ]
  },
  {
   "cell_type": "markdown",
   "id": "54421ec1",
   "metadata": {},
   "source": [
    "## Exercise: larger databases\n",
    "\n",
    "Try increasing the number of states that are in your database and running the algorithm (remember that you will have to adjust your oracle and encoding). What do you find? Do you find the target with certainty? How can we increase the likelihood of finding the target state?"
   ]
  },
  {
   "cell_type": "code",
   "execution_count": null,
   "id": "cead541f",
   "metadata": {},
   "outputs": [],
   "source": [
    "x        = QuantumRegister(n, name='x')\n",
    "xc       = ClassicalRegister(n, name='xc')\n",
    "big_circ = QuantumCircuit(x, xc)\n",
    "\n",
    "#\n",
    "# Your code here\n",
    "#"
   ]
  },
  {
   "cell_type": "markdown",
   "id": "bd2bbdf0",
   "metadata": {},
   "source": [
    "## Exercise: more than one target?\n",
    "\n",
    "How would you write a search algorithm that is looking for more than one marked element? Knowing what you have learnt from the last exercise, what would you need to know before you run the algorithm. Bonus: is there a way you could get around knowing too much before you start running the algorithm? Can you let the quantum computer do it for you?"
   ]
  },
  {
   "cell_type": "code",
   "execution_count": null,
   "id": "0676c390",
   "metadata": {},
   "outputs": [],
   "source": [
    "x        = QuantumRegister(n, name='x')\n",
    "xc       = ClassicalRegister(n, name='xc')\n",
    "gen_circ = QuantumCircuit(x, xc)\n",
    "\n",
    "### your code here"
   ]
  },
  {
   "cell_type": "markdown",
   "id": "244e3fdb",
   "metadata": {},
   "source": [
    "## Exercise: another embedding?\n",
    "\n",
    "Currently, we are using basis encoding, which is very simple and easy to use...but is it the most efficient or the best for your problem? Can you write a search algorithm that uses a different embedding? When would this be useful?\n",
    "\n",
    "Hint: if you are struggling, check our Amplitude Estimation"
   ]
  },
  {
   "cell_type": "code",
   "execution_count": null,
   "id": "11747dd6",
   "metadata": {},
   "outputs": [],
   "source": [
    "x        = QuantumRegister(n, name='x')\n",
    "xc       = ClassicalRegister(n, name='xc')\n",
    "enc_circ = QuantumCircuit(x, xc)\n",
    "\n",
    "### your code here"
   ]
  },
  {
   "cell_type": "markdown",
   "id": "bbd335f2",
   "metadata": {},
   "source": [
    "[1] L. K. Grover, A fast quantum mechanical algorithm for database search. Proceedings 28th Annual Symposium on the Theory of Computing (STOC) 1996, pp. 212-219. [arXiv:quant-ph/9605043](https://arxiv.org/abs/quant-ph/9605043)\n",
    "\n",
    "[2] Brassard, G., Hoyer, P., Mosca, M., & Tapp, A. (2000). Quantum Amplitude Amplification and Estimation. [arXiv:quant-ph/0005055](http://arxiv.org/abs/quant-ph/0005055)"
   ]
  }
 ],
 "metadata": {
  "kernelspec": {
   "display_name": "pyQML",
   "language": "python",
   "name": "pyqml"
  },
  "language_info": {
   "codemirror_mode": {
    "name": "ipython",
    "version": 3
   },
   "file_extension": ".py",
   "mimetype": "text/x-python",
   "name": "python",
   "nbconvert_exporter": "python",
   "pygments_lexer": "ipython3",
   "version": "3.10.11"
  }
 },
 "nbformat": 4,
 "nbformat_minor": 5
}
