{
 "cells": [
  {
   "cell_type": "markdown",
   "id": "23227df4",
   "metadata": {},
   "source": [
    "# More Introduction to Quantum Computing\n",
    "\n",
    "## MITP 2023\n",
    "\n",
    "Here we introduce even more quantum computing! Again, we will concentrate on using Qiskit and PennyLane, but these skills will be transferable to other languages. \n",
    "\n",
    "Here we will consider useful algorithms which will be used later in the course, or more widely in Quantum Machine Learning (QML)."
   ]
  },
  {
   "cell_type": "code",
   "execution_count": 1,
   "id": "cda87ea9",
   "metadata": {},
   "outputs": [],
   "source": [
    "### Import required packages\n",
    "import numpy as np\n",
    "import matplotlib.pyplot as plt\n",
    "from qiskit import (QuantumCircuit, QuantumRegister, ClassicalRegister, Aer, execute, transpile)\n",
    "from qiskit.quantum_info import Statevector\n",
    "from qiskit.tools.monitor import job_monitor\n",
    "from qiskit.visualization import *\n",
    "### Define simulator\n",
    "sim = Aer.get_backend('qasm_simulator')"
   ]
  },
  {
   "cell_type": "markdown",
   "id": "4af01dc7",
   "metadata": {},
   "source": [
    "## Qiskit\n",
    "\n",
    "## The SWAP Test\n",
    "\n",
    "First introduced in Refs [1] and [2], the SWAP test is a small algorithm which determines how close two quantum states $\\vert \\phi \\rangle$ and $\\vert \\psi \\rangle$ are. The test is very common in quantum machine learning.\n",
    "\n",
    "The circuit is very simple and consists of three operations on three qubits: the ancilla qubit $a$, the $\\phi$ qubit in the $\\vert \\phi \\rangle$ state, and the $\\psi$ qubit in the $\\vert \\psi \\rangle$ state."
   ]
  },
  {
   "cell_type": "code",
   "execution_count": 2,
   "id": "2028348e",
   "metadata": {},
   "outputs": [
    {
     "data": {
      "image/png": "[encoded data removed]",
      "text/plain": [
       "<Figure size 254.071x204.68 with 1 Axes>"
      ]
     },
     "execution_count": 2,
     "metadata": {},
     "output_type": "execute_result"
    }
   ],
   "source": [
    "### Define quantum registers\n",
    "phi = QuantumRegister(1, name='p')\n",
    "psi = QuantumRegister(1, name='q')\n",
    "a   = QuantumRegister(1, name='a')\n",
    "\n",
    "swapTest = QuantumCircuit(a, phi, psi)\n",
    "\n",
    "swapTest.h(a)\n",
    "swapTest.cswap(a, phi, psi)\n",
    "swapTest.h(a)\n",
    "\n",
    "swapTest.draw('mpl')"
   ]
  },
  {
   "cell_type": "markdown",
   "id": "97949dab",
   "metadata": {},
   "source": [
    "The first Hadamard operaton puts the ancilla qubit $a$ into a linear superposition of the computation basis\n",
    "\n",
    "$$\n",
    "\\vert 0 \\rangle \\otimes \\vert \\phi \\rangle \\otimes \\vert \\psi \\rangle \\xrightarrow{H} \\frac{1}{\\sqrt{2}} \\big(\\vert 0 \\rangle + \\vert 1 \\rangle\\big) \\otimes \\vert \\phi \\rangle \\otimes \\vert \\psi \\rangle.\n",
    "$$\n",
    "\n",
    "The controlled-SWAP gate is then applied across all three qubits, controlled from the ancilla. If the ancilla is in the $\\vert 1 \\rangle$ state, the SWAP operation is applied to the $p$ and $q$ qubits, swapping the states of the qubits.\n",
    "\n",
    "$$\n",
    "\\frac{1}{\\sqrt{2}} \\big(\\vert 0 \\rangle + \\vert 1 \\rangle\\big) \\otimes \\vert \\phi \\rangle \\otimes \\vert \\psi \\rangle \\xrightarrow{cSWAP} \\frac{1}{\\sqrt{2}} \\vert 0 \\rangle \\otimes \\vert \\phi \\rangle \\otimes \\vert \\psi \\rangle + \\frac{1}{\\sqrt{2}} \\vert 1 \\rangle \\otimes \\vert \\psi \\rangle \\otimes \\vert \\phi \\rangle.\n",
    "$$\n",
    "\n",
    "A second Hadamard gate is then applied to the ancilla qubit\n",
    "\n",
    "$$\n",
    "\\frac{1}{\\sqrt{2}} \\vert 0 \\rangle \\otimes \\vert \\phi \\rangle \\otimes \\vert \\psi \\rangle + \\frac{1}{\\sqrt{2}} \\vert 1 \\rangle \\otimes \\vert \\psi \\rangle \\otimes \\vert \\phi \\rangle \\xrightarrow{H} \\frac{1}{2} \\Bigg( \\big(\\vert 0 \\rangle + \\vert 1 \\rangle \\big) \\otimes \\vert \\phi \\rangle \\otimes \\vert \\psi \\rangle + \\big(\\vert 0 \\rangle - \\vert 1 \\rangle \\big) \\otimes \\vert \\psi \\rangle \\otimes \\vert \\phi \\rangle \\Bigg). \n",
    "$$\n",
    "\n",
    "Therefore, we can see that if $\\vert \\phi \\rangle = \\vert \\psi \\rangle$ then a measurement of the ancilla will yield the $\\vert 0 \\rangle$ with certainty. If the states are orthogonal, then one will measure an equal superposition of $\\vert 0 \\rangle$ and $\\vert 1 \\rangle$ on the ancilla. "
   ]
  },
  {
   "cell_type": "code",
   "execution_count": 3,
   "id": "260f35e5",
   "metadata": {},
   "outputs": [
    {
     "data": {
      "image/png": "[encoded data removed]",
      "text/plain": [
       "<Figure size 325.23x264.88 with 1 Axes>"
      ]
     },
     "execution_count": 3,
     "metadata": {},
     "output_type": "execute_result"
    }
   ],
   "source": [
    "### Define classical register to measure to\n",
    "ac = ClassicalRegister(1, name='ac')\n",
    "\n",
    "swapTest = QuantumCircuit(a, phi, psi, ac)\n",
    "\n",
    "swapTest.h(a)\n",
    "swapTest.cswap(a, phi, psi)\n",
    "swapTest.h(a)\n",
    "\n",
    "swapTest.measure(a, ac)\n",
    "swapTest.draw('mpl')"
   ]
  },
  {
   "cell_type": "code",
   "execution_count": 4,
   "id": "092b6744",
   "metadata": {},
   "outputs": [
    {
     "name": "stdout",
     "output_type": "stream",
     "text": [
      "\r",
      "Job Status: job has successfully run\n"
     ]
    },
    {
     "data": {
      "image/png": "[encoded data removed]",
      "text/plain": [
       "<Figure size 504x360 with 1 Axes>"
      ]
     },
     "execution_count": 4,
     "metadata": {},
     "output_type": "execute_result"
    }
   ],
   "source": [
    "job = execute(swapTest, sim, shots=1000)\n",
    "job_monitor(job)\n",
    "counts = job.result().get_counts()\n",
    "plot_histogram(counts)"
   ]
  },
  {
   "cell_type": "markdown",
   "id": "c7111fd0",
   "metadata": {},
   "source": [
    "Thus, we see that the states are the same, as expected. What if the states are orthogonal?"
   ]
  },
  {
   "cell_type": "code",
   "execution_count": 5,
   "id": "ca0e6dd0",
   "metadata": {},
   "outputs": [
    {
     "data": {
      "image/png": "[encoded data removed]",
      "text/plain": [
       "<Figure size 445.63x264.88 with 1 Axes>"
      ]
     },
     "execution_count": 5,
     "metadata": {},
     "output_type": "execute_result"
    }
   ],
   "source": [
    "swapTest = QuantumCircuit(a, phi, psi, ac)\n",
    "\n",
    "swapTest.x(phi)\n",
    "swapTest.barrier()\n",
    "swapTest.h(a)\n",
    "swapTest.cswap(a, phi, psi)\n",
    "swapTest.h(a)\n",
    "\n",
    "swapTest.measure(a, ac)\n",
    "swapTest.draw('mpl')"
   ]
  },
  {
   "cell_type": "code",
   "execution_count": 6,
   "id": "341c116e",
   "metadata": {},
   "outputs": [
    {
     "name": "stdout",
     "output_type": "stream",
     "text": [
      "Job Status: job has successfully run\n"
     ]
    },
    {
     "data": {
      "image/png": "[encoded data removed]",
      "text/plain": [
       "<Figure size 504x360 with 1 Axes>"
      ]
     },
     "execution_count": 6,
     "metadata": {},
     "output_type": "execute_result"
    }
   ],
   "source": [
    "job = execute(swapTest, sim, shots=1000)\n",
    "job_monitor(job)\n",
    "counts = job.result().get_counts()\n",
    "plot_histogram(counts)"
   ]
  },
  {
   "cell_type": "markdown",
   "id": "fd6fcea9",
   "metadata": {},
   "source": [
    "## Calculating an Inner Product with the SWAP test\n",
    "\n",
    "Now, let us consider the scenario where we want to calculate the inner product of the states $\\vert \\phi \\rangle$ and $\\vert \\psi \\rangle$, we can do this using the SWAP test. Rewriting the final state from above, we can see that the final state is\n",
    "\n",
    "$$\n",
    "\\frac{1}{2}\\vert 0 \\rangle \\otimes \\big( \\vert \\phi \\rangle \\otimes \\vert \\psi \\rangle + \\vert \\psi \\rangle \\otimes \\vert \\phi \\rangle \\big) + \\frac{1}{2}\\vert 1 \\rangle \\otimes \\big( \\vert \\phi \\rangle \\otimes \\vert \\psi \\rangle - \\vert \\psi \\rangle \\otimes \\vert \\phi \\rangle\\big).\n",
    "$$\n",
    "\n",
    "The probability of measuring the $\\vert 0 \\rangle$ on the ancilla qubit is therefore\n",
    "\n",
    "$$\n",
    "\\textrm{Prob}( a = 0 ) = \\frac{1}{2} + \\frac{1}{2}\\vert \\langle \\psi \\vert \\phi \\rangle \\vert ^2 ,\n",
    "$$\n",
    "\n",
    "which we can use to estimate the value of $\\vert \\langle \\psi \\vert \\phi \\rangle \\vert ^2 $ to arbitrary accuracy as the number of shots on the device increases.  "
   ]
  },
  {
   "cell_type": "markdown",
   "id": "d0c9ce47",
   "metadata": {},
   "source": [
    "## Exercise: Calculate an inner product\n",
    "\n",
    "Calculate the inner product of two states $\\vert \\phi \\rangle$ and $\\vert \\psi \\rangle$ of your own choosing using what you have learned in this notebook. \n",
    "\n",
    "Hints:\n",
    "\n",
    "First you need to initialise the two states $\\vert \\phi \\rangle$ and $\\vert \\psi \\rangle$ using the single qubit rotations from the start of the notebook.\n",
    "\n",
    "Then you need to apply the SWAP test and then do postprocessing of the results to calculate the inner product. \n",
    "\n",
    "Use the simulator to remove the need for error mitigation."
   ]
  },
  {
   "cell_type": "code",
   "execution_count": 7,
   "id": "5c4a822a",
   "metadata": {},
   "outputs": [],
   "source": [
    "### Your code here"
   ]
  },
  {
   "cell_type": "code",
   "execution_count": 8,
   "id": "f08c719f",
   "metadata": {},
   "outputs": [],
   "source": [
    "### Your code here"
   ]
  },
  {
   "cell_type": "code",
   "execution_count": 9,
   "id": "465e0136",
   "metadata": {},
   "outputs": [],
   "source": [
    "### Your code here"
   ]
  },
  {
   "cell_type": "markdown",
   "id": "58d3fb9a",
   "metadata": {},
   "source": [
    "[1] Adriano Barenco, André Berthiaume, David Deutsch, Artur Ekert, Richard Jozsa, and Chiara Macchiavello, Stabilization of Quantum Computations by Symmetrization, https://doi.org/10.1137/S0097539796302452\n",
    "\n",
    "[2] Harry Buhrman, Richard Cleve, John Watrous, and Ronald de Wolf, Quantum Fingerprinting, 10.1103/PhysRevLett.87.167902"
   ]
  },
  {
   "cell_type": "markdown",
   "id": "d47b160e",
   "metadata": {},
   "source": [
    "## Qiskit - Bonus\n",
    "\n",
    "## Building Noise Models\n",
    "\n",
    "If you signed up to IBM Q Experience and tried running on a real device in the last exercise, you would have noticed that you have to wait in line for quite a while. If you want a quick idea of how your algorithm will perform on a real device, you can use a noise model. \n",
    "\n",
    "We show below the code to make a noisy simulation, following this [example](https://qiskit.org/documentation/tutorials/simulators/3_building_noise_models.html). Have an experiment and ask us if you get stuck. "
   ]
  },
  {
   "cell_type": "code",
   "execution_count": 10,
   "id": "ece8f20e",
   "metadata": {},
   "outputs": [],
   "source": [
    "### Import required packages\n",
    "from qiskit_aer.noise import (NoiseModel, QuantumError, ReadoutError,\n",
    "                              pauli_error, depolarizing_error, thermal_relaxation_error)\n",
    "from qiskit_aer import AerSimulator"
   ]
  },
  {
   "cell_type": "code",
   "execution_count": 11,
   "id": "72abae4c",
   "metadata": {},
   "outputs": [
    {
     "data": {
      "image/png": "[encoded data removed]",
      "text/plain": [
       "<Figure size 658.679x325.08 with 1 Axes>"
      ]
     },
     "execution_count": 11,
     "metadata": {},
     "output_type": "execute_result"
    }
   ],
   "source": [
    "### Build circuit\n",
    "n_qubits = 4\n",
    "circ = QuantumCircuit(n_qubits)\n",
    "\n",
    "circ.h(0)\n",
    "for qubit in range(n_qubits - 1):\n",
    "    circ.cx(qubit, qubit + 1)\n",
    "circ.measure_all()\n",
    "circ.draw('mpl')"
   ]
  },
  {
   "cell_type": "code",
   "execution_count": 12,
   "id": "cb74b33d",
   "metadata": {},
   "outputs": [
    {
     "name": "stdout",
     "output_type": "stream",
     "text": [
      "Job Status: job has successfully run\n"
     ]
    },
    {
     "data": {
      "image/png": "[encoded data removed]",
      "text/plain": [
       "<Figure size 504x360 with 1 Axes>"
      ]
     },
     "execution_count": 12,
     "metadata": {},
     "output_type": "execute_result"
    }
   ],
   "source": [
    "### Ideal simulation \n",
    "job = execute(circ, sim, shots=1000)\n",
    "job_monitor(job)\n",
    "counts = job.result().get_counts()\n",
    "plot_histogram(counts)"
   ]
  },
  {
   "cell_type": "code",
   "execution_count": 13,
   "id": "a2756376",
   "metadata": {},
   "outputs": [
    {
     "name": "stdout",
     "output_type": "stream",
     "text": [
      "NoiseModel:\n",
      "  Basis gates: ['cx', 'id', 'rz', 'sx', 'u1', 'u2', 'u3']\n",
      "  Instructions with noise: ['u2', 'cx', 'reset', 'measure', 'u1', 'u3']\n",
      "  All-qubits errors: ['reset', 'measure', 'u1', 'u2', 'u3', 'cx']\n"
     ]
    }
   ],
   "source": [
    "### Example error probabilities\n",
    "p_reset = 0.03\n",
    "p_meas = 0.1\n",
    "p_gate1 = 0.05\n",
    "\n",
    "### QuantumError objects\n",
    "error_reset = pauli_error([('X', p_reset), ('I', 1 - p_reset)])\n",
    "error_meas  = pauli_error([('X',p_meas), ('I', 1 - p_meas)])\n",
    "error_gate1 = pauli_error([('X',p_gate1), ('I', 1 - p_gate1)])\n",
    "error_gate2 = error_gate1.tensor(error_gate1)\n",
    "\n",
    "### Add errors to noise model\n",
    "noise_bit_flip = NoiseModel()\n",
    "noise_bit_flip.add_all_qubit_quantum_error(error_reset, \"reset\")\n",
    "noise_bit_flip.add_all_qubit_quantum_error(error_meas, \"measure\")\n",
    "noise_bit_flip.add_all_qubit_quantum_error(error_gate1, [\"u1\", \"u2\", \"u3\"])\n",
    "noise_bit_flip.add_all_qubit_quantum_error(error_gate2, [\"cx\"])\n",
    "\n",
    "print(noise_bit_flip)"
   ]
  },
  {
   "cell_type": "code",
   "execution_count": 14,
   "id": "8823178b",
   "metadata": {},
   "outputs": [
    {
     "data": {
      "image/png": "[encoded data removed]",
      "text/plain": [
       "<Figure size 504x360 with 1 Axes>"
      ]
     },
     "execution_count": 14,
     "metadata": {},
     "output_type": "execute_result"
    }
   ],
   "source": [
    "# Create noisy simulator backend\n",
    "sim_noise = AerSimulator(noise_model=noise_bit_flip)\n",
    "\n",
    "# Transpile circuit for noisy basis gates\n",
    "circ_tnoise = transpile(circ, sim_noise)\n",
    "\n",
    "# Run and get counts\n",
    "result_bit_flip = sim_noise.run(circ_tnoise).result()\n",
    "counts_bit_flip = result_bit_flip.get_counts(0)\n",
    "\n",
    "# Plot noisy output\n",
    "plot_histogram([counts, counts_bit_flip], legend=['Ideal', 'Noisy'])"
   ]
  }
 ],
 "metadata": {
  "kernelspec": {
   "display_name": "pyQML",
   "language": "python",
   "name": "pyqml"
  },
  "language_info": {
   "codemirror_mode": {
    "name": "ipython",
    "version": 3
   },
   "file_extension": ".py",
   "mimetype": "text/x-python",
   "name": "python",
   "nbconvert_exporter": "python",
   "pygments_lexer": "ipython3",
   "version": "3.10.11"
  }
 },
 "nbformat": 4,
 "nbformat_minor": 5
}
