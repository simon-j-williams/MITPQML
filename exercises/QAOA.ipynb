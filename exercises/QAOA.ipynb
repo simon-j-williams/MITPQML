{
 "cells": [
  {
   "cell_type": "markdown",
   "id": "a76200cc",
   "metadata": {},
   "source": [
    "# The Quantum Approximate Optimisation Algorithm (QAOA)\n",
    "\n",
    "The Quantum Approximate Optimisation Algorithm (QAOA) is a general technique that can be used to find the approximate solution to combinatorial optimisation problems. The QAOA is best suited to problems which find a specific bit string. "
   ]
  },
  {
   "cell_type": "code",
   "execution_count": 1,
   "id": "a4ea9e46",
   "metadata": {},
   "outputs": [],
   "source": [
    "from pennylane import qaoa\n",
    "from matplotlib import pyplot as plt\n",
    "import networkx as nx\n",
    "from pennylane import numpy as np\n",
    "import pennylane as qml"
   ]
  },
  {
   "cell_type": "markdown",
   "id": "3c03e144",
   "metadata": {},
   "source": [
    "The quantum approximate optimization algorithm (QAOA) is a general technique that can be used to find approximate solutions to combinatorial optimization problems, in particular problems that can be cast as searching for an optimal bitstring. QAOA consists of the following steps:\n",
    "\n",
    "1. Define a cost Hamiltonian $H_C$ such that its ground state encodes the solution to the optimization problem.\n",
    "2. Define a mixer Hamiltonian $H_M$\n",
    "3. Construct the circuits $e^{-i\\gamma H_C}$ and $e^{-i\\alpha H_M}$. We call these the cost and mixer layers, respectively.\n",
    "4. Choose a parameter $n\\geq 1$ and build the circuit cosisting of repeated layers of the cost and mixing layers,\n",
    "\n",
    "$$\n",
    "U = e^{-i\\gamma_n H_C}e^{-i\\alpha_n H_M}\\dots e^{-i\\gamma_1 H_C}e^{-i\\alpha_1 H_M}\n",
    "$$ \n",
    "\n",
    "5. Prepare an initial state, apply $U$ and use classical techniques to optimize the parameters.\n",
    "6. After the circuit has been optimized, measurements of the output state reveal approximate solutions to the optimization problem.\n",
    "\n",
    "In summary, the starting point of QAOA is the specification of cost and mixer Hamiltonians. We then use time evolution and layering to create a variational circuit and optimize its parameters. The algorithm concludes by sampling from the circuit to get an approximate solution to the optimization problem."
   ]
  },
  {
   "cell_type": "markdown",
   "id": "b803db08",
   "metadata": {},
   "source": [
    "## Minimum Vertex Cover with QAOA\n",
    "\n",
    "Here we will use the QAOA to find the minimum vertex cover of a graph: a collection of vertices such that each edge in the graph contains at least one of the vertices in the cover.\n",
    "\n",
    "A vertex cover can be represented as a binary bit string. For example, for the 5 vertex graph below, the cover can be written as '01010'."
   ]
  },
  {
   "cell_type": "code",
   "execution_count": 2,
   "id": "780fc48c",
   "metadata": {},
   "outputs": [
    {
     "data": {
      "image/png": "[encoded data removed]",
      "text/plain": [
       "<Figure size 432x288 with 1 Axes>"
      ]
     },
     "metadata": {},
     "output_type": "display_data"
    }
   ],
   "source": [
    "edges = [(0, 1), (1, 2), (1,3), (2,3), (3,4)]\n",
    "graph = nx.Graph(edges)\n",
    "\n",
    "nx.draw(graph, with_labels=True)"
   ]
  },
  {
   "cell_type": "markdown",
   "id": "1c1d4022",
   "metadata": {},
   "source": [
    "## Implementing the QAOA\n",
    "\n",
    "Here we will implement the QAOA for a simple, four vertex graph and find the minimal cover."
   ]
  },
  {
   "cell_type": "code",
   "execution_count": 3,
   "id": "f5138e8e",
   "metadata": {},
   "outputs": [
    {
     "data": {
      "image/png": "[encoded data removed]",
      "text/plain": [
       "<Figure size 432x288 with 1 Axes>"
      ]
     },
     "metadata": {},
     "output_type": "display_data"
    }
   ],
   "source": [
    "edges = [(0, 1), (1, 2), (2, 0), (2, 3)]\n",
    "graph = nx.Graph(edges)\n",
    "\n",
    "nx.draw(graph, with_labels=True)"
   ]
  },
  {
   "cell_type": "markdown",
   "id": "571ccfe2",
   "metadata": {},
   "source": [
    "There are two minimum covers in this graph: vertices 0 and 2, corresponding to 1010, and the vertices 1 and 2, corresponding to 0110. \n",
    "\n",
    "The PennyLane QAOA module has a collection of built-in optimization problems, including minimum vertex cover. For each problem, you can retrieve the cost Hamiltonian as well as a recommended mixer Hamiltonian.\n",
    "\n",
    "In this example, the Hamiltonian has two ground states corresponding to the solutions to the minimum cover problem: $\\vert 1010 \\rangle$ and $\\vert 0110\\rangle$. The mixer Hamiltonian is the simple, non-commuting sum of Pauli-X operations on each node of the graph:"
   ]
  },
  {
   "cell_type": "code",
   "execution_count": 4,
   "id": "8a34e830",
   "metadata": {},
   "outputs": [
    {
     "name": "stdout",
     "output_type": "stream",
     "text": [
      "Cost Hamiltonian   (-0.25) [Z3]\n",
      "+ (0.5) [Z0]\n",
      "+ (0.5) [Z1]\n",
      "+ (1.25) [Z2]\n",
      "+ (0.75) [Z0 Z1]\n",
      "+ (0.75) [Z0 Z2]\n",
      "+ (0.75) [Z1 Z2]\n",
      "+ (0.75) [Z2 Z3]\n",
      "Mixer Hamiltonian   (1) [X0]\n",
      "+ (1) [X1]\n",
      "+ (1) [X2]\n",
      "+ (1) [X3]\n"
     ]
    }
   ],
   "source": [
    "cost_h, mixer_h = qaoa.min_vertex_cover(graph, constrained=False)\n",
    "\n",
    "print(\"Cost Hamiltonian\", cost_h)\n",
    "print(\"Mixer Hamiltonian\", mixer_h)"
   ]
  },
  {
   "cell_type": "markdown",
   "id": "fda11101",
   "metadata": {},
   "source": [
    "A single layer of QAOA consists of time evolution under these Hamiltonians. \n",
    "\n",
    "The QAOA module allows you to build the cost and mixer layers directly using the functions `cost_layer()` and `mixer_layer()`, which take as input the respective Hamiltonian and variational parameters:"
   ]
  },
  {
   "cell_type": "code",
   "execution_count": 5,
   "id": "6dab0b94",
   "metadata": {},
   "outputs": [],
   "source": [
    "def qaoa_layer(gamma, alpha):\n",
    "    qaoa.cost_layer(gamma, cost_h)\n",
    "    qaoa.mixer_layer(alpha, mixer_h)"
   ]
  },
  {
   "cell_type": "markdown",
   "id": "50bfec74",
   "metadata": {},
   "source": [
    "We are now ready to build the full variational circuit. The number of wires is equal to the number of vertices of the graph. We initialize the state to an even superposition over all basis states. For this example, we employ a circuit consisting of two QAOA layers:"
   ]
  },
  {
   "cell_type": "code",
   "execution_count": 6,
   "id": "79dbd1f6",
   "metadata": {},
   "outputs": [],
   "source": [
    "wires = range(4)\n",
    "depth = 2\n",
    "\n",
    "def circuit(params, **kwargs):\n",
    "    for w in wires:\n",
    "        qml.Hadamard(wires=w)\n",
    "    qml.layer(qaoa_layer, depth, params[0], params[1])"
   ]
  },
  {
   "cell_type": "markdown",
   "id": "956a7445",
   "metadata": {},
   "source": [
    "Here we build the QNode, with our cost being the expectation value of the cost Hamiltonian. "
   ]
  },
  {
   "cell_type": "code",
   "execution_count": 7,
   "id": "49f6a835",
   "metadata": {},
   "outputs": [],
   "source": [
    "dev = qml.device(\"qulacs.simulator\", wires=wires)\n",
    "\n",
    "@qml.qnode(dev)\n",
    "def cost_function(params):\n",
    "    circuit(params)\n",
    "    return qml.expval(cost_h)"
   ]
  },
  {
   "cell_type": "markdown",
   "id": "2700c3dc",
   "metadata": {},
   "source": [
    "## Optimisation\n",
    "\n",
    "We now perform the optimisation using a classical gradient descent."
   ]
  },
  {
   "cell_type": "code",
   "execution_count": 8,
   "id": "d6236e54",
   "metadata": {},
   "outputs": [],
   "source": [
    "optimizer = qml.GradientDescentOptimizer()\n",
    "steps = 70\n",
    "params = np.array([[0.5 for i in range(depth)],[0.5 for i in range(depth)]], requires_grad=True)"
   ]
  },
  {
   "cell_type": "code",
   "execution_count": 9,
   "id": "c04042f8",
   "metadata": {},
   "outputs": [
    {
     "name": "stdout",
     "output_type": "stream",
     "text": [
      "Optimal Parameters\n",
      "[[0.59806352 0.94198485]\n",
      " [0.52797281 0.85552845]]\n"
     ]
    }
   ],
   "source": [
    "for i in range(steps):\n",
    "    params = optimizer.step(cost_function, params)\n",
    "\n",
    "print(\"Optimal Parameters\")\n",
    "print(params)"
   ]
  },
  {
   "cell_type": "markdown",
   "id": "29d08295",
   "metadata": {},
   "source": [
    "## Optimal params\n",
    "\n",
    "Now that we have calculated the optimal parameters, we can now reconstruct the probability landscape. We redefine the full QAOA circuit with the optimal parameters, but this time we return the probabilities of measuring each bit string."
   ]
  },
  {
   "cell_type": "code",
   "execution_count": 10,
   "id": "366f7211",
   "metadata": {},
   "outputs": [],
   "source": [
    "@qml.qnode(dev)\n",
    "def probability_circuit(gamma, alpha):\n",
    "    circuit([gamma, alpha])\n",
    "    return qml.probs(wires=wires)\n",
    "\n",
    "\n",
    "probs = probability_circuit(params[0], params[1])"
   ]
  },
  {
   "cell_type": "code",
   "execution_count": 11,
   "id": "a7188b38",
   "metadata": {},
   "outputs": [
    {
     "data": {
      "image/png": "[encoded data removed]",
      "text/plain": [
       "<Figure size 432x288 with 1 Axes>"
      ]
     },
     "metadata": {
      "needs_background": "light"
     },
     "output_type": "display_data"
    }
   ],
   "source": [
    "plt.bar(range(2 ** len(wires)), probs)\n",
    "plt.show()"
   ]
  },
  {
   "cell_type": "markdown",
   "id": "4fd365cb",
   "metadata": {},
   "source": [
    "There state $\\vert 6 \\rangle$ corresponds to the $\\vert 0110 \\rangle$ state, and the $\\vert 10 \\rangle$ state corresponds to the $\\vert 1010\\rangle$ state, the solution to our minimum cover problem. "
   ]
  }
 ],
 "metadata": {
  "kernelspec": {
   "display_name": "pyQML",
   "language": "python",
   "name": "pyqml"
  },
  "language_info": {
   "codemirror_mode": {
    "name": "ipython",
    "version": 3
   },
   "file_extension": ".py",
   "mimetype": "text/x-python",
   "name": "python",
   "nbconvert_exporter": "python",
   "pygments_lexer": "ipython3",
   "version": "3.10.11"
  }
 },
 "nbformat": 4,
 "nbformat_minor": 5
}
