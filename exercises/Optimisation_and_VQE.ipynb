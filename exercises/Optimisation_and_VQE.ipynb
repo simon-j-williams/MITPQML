{
 "cells": [
  {
   "cell_type": "markdown",
   "id": "6f1b476a",
   "metadata": {},
   "source": [
    "# Optimisation and the Variational Quantum Eigensolver\n",
    "\n",
    "## PennyLane\n",
    "\n",
    "## Simple Optimisation\n",
    "\n",
    "Here we will use PennyLane for what it has been designed for, Quantum Machine Learning. We will build a very simple optimisation problem and run it on the qubit simulator. Let's first build the QNode from the first exercise."
   ]
  },
  {
   "cell_type": "code",
   "execution_count": 1,
   "id": "9764fc67",
   "metadata": {},
   "outputs": [],
   "source": [
    "import pennylane as qml\n",
    "from pennylane import numpy as npl"
   ]
  },
  {
   "cell_type": "code",
   "execution_count": 2,
   "id": "8187140b",
   "metadata": {},
   "outputs": [],
   "source": [
    "dev1 = qml.device(\"default.qubit\", wires=1)\n",
    "\n",
    "@qml.qnode(dev1, interface=\"autograd\")\n",
    "def circuit(params):\n",
    "    qml.RX(params[0], wires=0)\n",
    "    qml.RY(params[1], wires=0)\n",
    "    return qml.expval(qml.PauliZ(0))"
   ]
  },
  {
   "cell_type": "markdown",
   "id": "6669bc84",
   "metadata": {},
   "source": [
    "PennyLane has in-built optimisers which can be used within the PennyLane language to optimise quantum circuits. Here we use the circuit from above and optimise $\\phi$ and $\\theta$ to get a circuit which rotates the state $\\vert 0 \\rangle$ to the $\\vert 1 \\rangle$ state. In terms of our measurement of the Pauli-Z operator, this means rotating from the measurement of $1$ to $-1$. \n",
    "\n",
    "Here we can define our cost function simply as the output of the circuit, as the measurement of the expectation value of the Pauli-Z operator is bounded between [-1, 1]."
   ]
  },
  {
   "cell_type": "code",
   "execution_count": 3,
   "id": "8c7eb528",
   "metadata": {},
   "outputs": [],
   "source": [
    "def cost(x):\n",
    "    return circuit(x)"
   ]
  },
  {
   "cell_type": "markdown",
   "id": "1f065a25",
   "metadata": {},
   "source": [
    "We now define some initial values which give us a result close to 1, thus the $\\vert 0 \\rangle$ state."
   ]
  },
  {
   "cell_type": "code",
   "execution_count": 4,
   "id": "37c0e522",
   "metadata": {},
   "outputs": [
    {
     "name": "stdout",
     "output_type": "stream",
     "text": [
      "0.9999999750000002\n"
     ]
    }
   ],
   "source": [
    "init_params = npl.array([0.0001, 0.0002], requires_grad=True)\n",
    "print(cost(init_params))"
   ]
  },
  {
   "cell_type": "markdown",
   "id": "d344ec50",
   "metadata": {},
   "source": [
    "Note: here you must be careful not to use `np` and use `npl`. \n",
    "\n",
    "We now perform an optimisation to get create a circuit which rotates the qubit to the $\\vert 1 \\rangle$ state. "
   ]
  },
  {
   "cell_type": "code",
   "execution_count": 5,
   "id": "b43b0e03",
   "metadata": {},
   "outputs": [
    {
     "name": "stdout",
     "output_type": "stream",
     "text": [
      "Cost after step     5:  0.9999993\n",
      "Cost after step    10:  0.9999791\n",
      "Cost after step    15:  0.9993952\n",
      "Cost after step    20:  0.9826807\n",
      "Cost after step    25:  0.6130121\n",
      "Cost after step    30: -0.6463199\n",
      "Cost after step    35: -0.9959684\n",
      "Cost after step    40: -0.9999755\n",
      "Cost after step    45: -0.9999999\n",
      "Cost after step    50: -1.0000000\n",
      "Cost after step    55: -1.0000000\n",
      "Cost after step    60: -1.0000000\n",
      "Cost after step    65: -1.0000000\n",
      "Cost after step    70: -1.0000000\n",
      "Cost after step    75: -1.0000000\n",
      "Cost after step    80: -1.0000000\n",
      "Cost after step    85: -1.0000000\n",
      "Cost after step    90: -1.0000000\n",
      "Cost after step    95: -1.0000000\n",
      "Cost after step   100: -1.0000000\n",
      "Optimized rotation angles: [1.93016604e-16 3.14159265e+00]\n"
     ]
    }
   ],
   "source": [
    "### Initialise the optimizer\n",
    "opt = qml.GradientDescentOptimizer(stepsize=0.4) # we use a good lr\n",
    "\n",
    "steps = 100\n",
    "\n",
    "### Set the initial parameter values\n",
    "params = init_params\n",
    "\n",
    "### Perform optimisation, updating the parameters at each step\n",
    "for i in range(steps):\n",
    "    params = opt.step(cost, params)\n",
    "\n",
    "    if (i + 1) % 5 == 0:\n",
    "        print(\"Cost after step {:5d}: {: .7f}\".format(i + 1, cost(params)))\n",
    "\n",
    "print(\"Optimized rotation angles: {}\".format(params))"
   ]
  },
  {
   "cell_type": "markdown",
   "id": "fe860b8c",
   "metadata": {},
   "source": [
    "We see that, to get a state of $\\vert 1 \\rangle$ we must rotate the system by $R_X(0)$ and $R_Y(\\pi)$, which makes sense as\n",
    "\n",
    "$$\n",
    "\\langle \\psi \\vert \\sigma_z \\vert \\psi \\rangle = \\cos \\phi \\cos \\theta.\n",
    "$$"
   ]
  },
  {
   "cell_type": "markdown",
   "id": "749bab8d",
   "metadata": {},
   "source": [
    "## The Variational Quantum Eigensolver\n",
    "\n",
    "The Variational Quantum Eigensolver (VQE) is a hybrid algorithm that uses both classical computers and quantum computers to find the ground state of a given physical system. It has many uses in Quantum Chemistry and optimisation problems. Given an ansatz, the quantum device calculates the expectation value of a Hamiltonian, and a classical optimiser minimises the cost function.\n",
    "\n",
    "Within VQE, the cost function is defined as the expectation value of the Hamiltonian computed in the trial state.\n",
    "\n",
    "Here we will see how the VQE is encoded using as an example the Hamiltonian of a hydrogen molecule, $H_2$. "
   ]
  },
  {
   "cell_type": "markdown",
   "id": "8b690bc0",
   "metadata": {},
   "source": [
    "### Building the Hamiltonian\n",
    "\n",
    "Here we will use the in-built PennyLane functions to automatically build our Hamiltonian using the minimum basis set approximation. How one builds such a Hamiltonian is covered in the lectures.\n",
    "\n",
    "We specify that we want a $H_2$ molecule, and give the nuclear coordinates in atomic units."
   ]
  },
  {
   "cell_type": "code",
   "execution_count": 6,
   "id": "ee3724fa",
   "metadata": {},
   "outputs": [],
   "source": [
    "symbols = [\"H\", \"H\"]\n",
    "coords  = np.array([0.0, 0.0, -0.6614, 0.0, 0.0, 0.6614])"
   ]
  },
  {
   "cell_type": "markdown",
   "id": "0a0db39e",
   "metadata": {},
   "source": [
    "We can now build the Hamiltonian using the `molecular_hamiltonian()` function in PennyLane"
   ]
  },
  {
   "cell_type": "code",
   "execution_count": 7,
   "id": "ceb1ebac",
   "metadata": {},
   "outputs": [
    {
     "name": "stdout",
     "output_type": "stream",
     "text": [
      "Number of qubits:  4\n",
      "Hamiltonian:\n",
      "   (-0.2427450126094144) [Z2]\n",
      "+ (-0.2427450126094144) [Z3]\n",
      "+ (-0.042072551947439224) [I0]\n",
      "+ (0.1777135822909176) [Z0]\n",
      "+ (0.1777135822909176) [Z1]\n",
      "+ (0.12293330449299361) [Z0 Z2]\n",
      "+ (0.12293330449299361) [Z1 Z3]\n",
      "+ (0.16768338855601356) [Z0 Z3]\n",
      "+ (0.16768338855601356) [Z1 Z2]\n",
      "+ (0.17059759276836803) [Z0 Z1]\n",
      "+ (0.1762766139418181) [Z2 Z3]\n",
      "+ (-0.044750084063019925) [Y0 Y1 X2 X3]\n",
      "+ (-0.044750084063019925) [X0 X1 Y2 Y3]\n",
      "+ (0.044750084063019925) [Y0 X1 X2 Y3]\n",
      "+ (0.044750084063019925) [X0 Y1 Y2 X3]\n"
     ]
    }
   ],
   "source": [
    "H, qubits = qml.qchem.molecular_hamiltonian(symbols, coords)\n",
    "print(\"Number of qubits: \", qubits)\n",
    "print(\"Hamiltonian:\\n\", H)"
   ]
  },
  {
   "cell_type": "markdown",
   "id": "cb0a7881",
   "metadata": {},
   "source": [
    "This function returns the number of qubits needed for the algorithm, corresponding to the number of spin orbitals, and the Hamiltonian, represented as a linear combination of Pauli operators. For this example, we just want to use the Hamiltonian as it is. For more information on how the Hamiltonian has been constructed, please see the PennyLane [documentation](https://docs.pennylane.ai/en/stable/code/api/pennylane.qchem.molecular_hamiltonian.html#pennylane.qchem.molecular_hamiltonian) and the [tutorial](https://pennylane.ai/qml/demos/tutorial_quantum_chemistry) on how to build molecular Hamiltonians."
   ]
  },
  {
   "cell_type": "markdown",
   "id": "52948687",
   "metadata": {},
   "source": [
    "### Implementing the VQE\n",
    "\n",
    "We now use PennyLane just as before, but we will now integrate the quantum algorithms with classical optimisation. First, we load in a device just as before."
   ]
  },
  {
   "cell_type": "code",
   "execution_count": 8,
   "id": "49beacb7",
   "metadata": {},
   "outputs": [],
   "source": [
    "dev = qml.device(\"default.qubit\", wires=qubits)"
   ]
  },
  {
   "cell_type": "markdown",
   "id": "b6b09b1e",
   "metadata": {},
   "source": [
    "The VQE works on the variational theorem. The variational theorem states that for a time-independent Hamiltonian operator, any trial wave function will have an energy expectation value that is greater than or equal to the true ground-state wave function corresponding to the given Hamiltonian. Thus we can construct a trial state (here the HF function) and then minimise to find an approximation for the ground state.\n",
    "\n",
    "We now need to set up our quantum circuit for our VQE. Here, we will go back to quantum chemistry and consider the state\n",
    "\n",
    "$$\n",
    "\\vert \\psi \\rangle = \\cos \\frac{\\theta}{2} \\vert 1100 \\rangle - \\sin \\frac{\\theta}{2} \\vert 0011 \\rangle.\n",
    "$$\n",
    "\n",
    "The first term is a [Hartree-Fock (HF) state](https://en.wikipedia.org/wiki/Hartree–Fock_method), which describes the two electrons in the lowest energy state. The second term is the excitation state, where both electrons are in the excited state.\n",
    "\n",
    "\n",
    "We can use the `hf_state` to encode these states on the circuit."
   ]
  },
  {
   "cell_type": "code",
   "execution_count": 9,
   "id": "0465bc9a",
   "metadata": {},
   "outputs": [],
   "source": [
    "electrons = 2\n",
    "hf        = qml.qchem.hf_state(electrons, qubits)\n",
    "\n",
    "def circuit(param, wires):\n",
    "    qml.BasisState(hf, wires=wires)\n",
    "    qml.DoubleExcitation(param, wires=[0,1,2,3])\n",
    "\n",
    "@qml.qnode(dev, interface=\"autograd\")\n",
    "def cost(param):\n",
    "    circuit(param, wires=range(qubits))\n",
    "    return qml.expval(H)"
   ]
  },
  {
   "cell_type": "markdown",
   "id": "ece18c17",
   "metadata": {},
   "source": [
    "Here we have build the circuit using the `qml.BasisState` which will construct the state $\\vert 11 00 \\rangle$ state on the device. We can of course do this using a series of `NOT` gates. \n",
    "\n",
    "The `qml.DoubleExcitation` function then applies an SU(2) rotation such that \n",
    "\n",
    "$$\n",
    "\\vert 1100 \\rangle \\rightarrow \\cos \\frac{\\theta}{2} \\vert 1100 \\rangle - \\sin \\frac{\\theta}{2} \\vert 0011 \\rangle,\\\\\n",
    "\\vert 0011 \\rangle \\rightarrow \\cos \\frac{\\theta}{2} \\vert 0011 \\rangle + \\sin \\frac{\\theta}{2} \\vert 1100 \\rangle.\n",
    "$$\n",
    "\n",
    "All other states are left unchanged. \n",
    "\n",
    "We then define the cost function as a QNode. Here, the cost function is the expectation value of the circuit with respect to the Hamiltonian. We can then apply a classical optimisation algorithm to minimise the Hamiltonian to its ground state."
   ]
  },
  {
   "cell_type": "code",
   "execution_count": 10,
   "id": "04774572",
   "metadata": {},
   "outputs": [],
   "source": [
    "opt   = qml.GradientDescentOptimizer(stepsize=0.4)\n",
    "\n",
    "theta = npl.array(0.0, requires_grad=True)"
   ]
  },
  {
   "cell_type": "markdown",
   "id": "c8789052",
   "metadata": {},
   "source": [
    "We initialise the angle $\\theta=0$, thus we have the circuit in the state $\\vert 1100\\rangle$.\n",
    "\n",
    "We now carry out the optimisation:"
   ]
  },
  {
   "cell_type": "code",
   "execution_count": 11,
   "id": "2548b0cb",
   "metadata": {},
   "outputs": [
    {
     "name": "stdout",
     "output_type": "stream",
     "text": [
      "Step = 0, Energy = -1.12799983 Ha\n",
      "Step = 2, Energy = -1.13466246 Ha\n",
      "Step = 4, Energy = -1.13590595 Ha\n",
      "Step = 6, Energy = -1.13613667 Ha\n",
      "Step = 8, Energy = -1.13617944 Ha\n",
      "Step = 10, Energy = -1.13618736 Ha\n",
      "Step = 12, Energy = -1.13618883 Ha\n",
      "\n",
      "Final value of the ground state energy: -1.13618883\n",
      "\n",
      "Optimal value of the circuit parameter = 0.2089\n"
     ]
    }
   ],
   "source": [
    "### Store costs \n",
    "energy = [cost(theta)]\n",
    "\n",
    "### Store angles\n",
    "angle = [theta]\n",
    "\n",
    "max_it = 100\n",
    "conv_tol = 1e-6\n",
    "\n",
    "for n in range(max_it):\n",
    "    theta, prev_energy = opt.step_and_cost(cost, theta)\n",
    "    \n",
    "    energy.append(cost(theta))\n",
    "    angle.append(theta)\n",
    "    \n",
    "    conv = np.abs(energy[-1] - prev_energy)\n",
    "    \n",
    "    if n % 2 == 0:\n",
    "        print(f\"Step = {n}, Energy = {energy[-1]:.8f} Ha\")\n",
    "        \n",
    "    if conv <= conv_tol:\n",
    "        break\n",
    "        \n",
    "print(\"\\n\" f\"Final value of the ground state energy: {energy[-1]:.8f}\")\n",
    "print(\"\\n\" f\"Optimal value of the circuit parameter = {angle[-1]:.4f}\")"
   ]
  },
  {
   "cell_type": "markdown",
   "id": "3a861813",
   "metadata": {},
   "source": [
    "We can now plot the results from our optimisation:"
   ]
  },
  {
   "cell_type": "code",
   "execution_count": 12,
   "id": "7e3cb4e0",
   "metadata": {},
   "outputs": [
    {
     "data": {
      "image/png": "[encoded data removed]",
      "text/plain": [
       "<Figure size 864x360 with 2 Axes>"
      ]
     },
     "metadata": {
      "needs_background": "light"
     },
     "output_type": "display_data"
    }
   ],
   "source": [
    "import matplotlib.pyplot as plt\n",
    "\n",
    "fig = plt.figure()\n",
    "fig.set_figheight(5)\n",
    "fig.set_figwidth(12)\n",
    "\n",
    "# Full configuration interaction (FCI) energy computed classically\n",
    "E_fci = -1.136189454088\n",
    "\n",
    "# Add energy plot on column 1\n",
    "ax1 = fig.add_subplot(121)\n",
    "ax1.plot(range(n + 2), energy, \"cornflowerblue\", marker=\"o\", ls=\"dashed\")\n",
    "ax1.plot(range(n + 2), np.full(n + 2, E_fci), color=\"red\")\n",
    "ax1.set_xlabel(\"Optimization step\", fontsize=13)\n",
    "ax1.set_ylabel(\"Energy (Hartree)\", fontsize=13)\n",
    "ax1.text(0.5, -1.1176, r\"$E_\\mathrm{HF}$\", fontsize=15)\n",
    "ax1.text(0, -1.1357, r\"$E_\\mathrm{FCI}$\", fontsize=15)\n",
    "plt.xticks(fontsize=12)\n",
    "plt.yticks(fontsize=12)\n",
    "\n",
    "# Add angle plot on column 2\n",
    "ax2 = fig.add_subplot(122)\n",
    "ax2.plot(range(n + 2), angle, \"cornflowerblue\", marker=\"o\", ls=\"dashed\")\n",
    "ax2.set_xlabel(\"Optimization step\", fontsize=13)\n",
    "ax2.set_ylabel(\"Gate parameter $\\\\theta$ (rad)\", fontsize=13)\n",
    "plt.xticks(fontsize=12)\n",
    "plt.yticks(fontsize=12)\n",
    "\n",
    "plt.subplots_adjust(wspace=0.3, bottom=0.2)\n",
    "plt.show()"
   ]
  },
  {
   "cell_type": "markdown",
   "id": "3d93b3ba",
   "metadata": {},
   "source": [
    "We see that the VQE converges to $\\theta=0.2089$, such that:\n",
    "\n",
    "$$\n",
    "\\vert \\psi \\rangle = 0.994 \\vert 1100\\rangle - 0.104 \\vert 00 11 \\rangle,\n",
    "$$\n",
    "\n",
    "which is the ground state of the Hydrogen molecole in the minimal basis approximation.  "
   ]
  },
  {
   "cell_type": "markdown",
   "id": "af0d9530",
   "metadata": {},
   "source": [
    "## Exercise:\n",
    "\n",
    "Try building your own optimiser which can make any state on the quantum device. "
   ]
  },
  {
   "cell_type": "code",
   "execution_count": 13,
   "id": "3351ef11",
   "metadata": {},
   "outputs": [],
   "source": [
    "### Your code here"
   ]
  },
  {
   "cell_type": "code",
   "execution_count": 14,
   "id": "677e9a29",
   "metadata": {},
   "outputs": [],
   "source": [
    "### Your code here"
   ]
  },
  {
   "cell_type": "code",
   "execution_count": 15,
   "id": "e191791b",
   "metadata": {},
   "outputs": [],
   "source": [
    "### Your code here"
   ]
  },
  {
   "cell_type": "markdown",
   "id": "450fae87",
   "metadata": {},
   "source": [
    "## Exercise:\n",
    "\n",
    "Try building a VQE using a Hamiltonian of your choosing! "
   ]
  },
  {
   "cell_type": "code",
   "execution_count": null,
   "id": "ccbe18ff",
   "metadata": {},
   "outputs": [],
   "source": [
    "### Your code here"
   ]
  }
 ],
 "metadata": {
  "kernelspec": {
   "display_name": "pyQML",
   "language": "python",
   "name": "pyqml"
  },
  "language_info": {
   "codemirror_mode": {
    "name": "ipython",
    "version": 3
   },
   "file_extension": ".py",
   "mimetype": "text/x-python",
   "name": "python",
   "nbconvert_exporter": "python",
   "pygments_lexer": "ipython3",
   "version": "3.10.11"
  }
 },
 "nbformat": 4,
 "nbformat_minor": 5
}
