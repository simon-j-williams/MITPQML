{
 "cells": [
  {
   "cell_type": "markdown",
   "id": "45a2f4ce",
   "metadata": {},
   "source": [
    "# Introduction to Quantum Computing #\n",
    "\n",
    "## MITP 2023"
   ]
  },
  {
   "cell_type": "markdown",
   "id": "81ff3d2e",
   "metadata": {},
   "source": [
    "The aim of this notebook is to introduce the reader to using quantum devices, specifically superconducting qubit devices such as those being developed and produced by IBM. Most of the code will be written in Qiskit, with brief introductions to other quantum computing languages which will needed for the rest of the course. "
   ]
  },
  {
   "cell_type": "markdown",
   "id": "325e8240",
   "metadata": {},
   "source": [
    "# Qiskit\n",
    "\n",
    "In this section we will introduce the Qiskit language, manipulating single and multiqubit states using the set of [universal quantum gates](https://qiskit.org/documentation/tutorials/circuits/3_summary_of_quantum_operations.html). The tutorial will lead up to the SWAP test algorithm, which is prolific in quantum machine learning."
   ]
  },
  {
   "cell_type": "code",
   "execution_count": null,
   "id": "1cfb5330",
   "metadata": {},
   "outputs": [],
   "source": [
    "### Import required packages\n",
    "import numpy as np\n",
    "import matplotlib.pyplot as plt\n",
    "from qiskit import (QuantumCircuit, QuantumRegister, ClassicalRegister, Aer, execute)\n",
    "from qiskit.quantum_info import Statevector\n",
    "from qiskit.tools.monitor import job_monitor\n",
    "from qiskit.visualization import *"
   ]
  },
  {
   "cell_type": "markdown",
   "id": "77b08cee",
   "metadata": {},
   "source": [
    "## The qubit\n",
    "\n",
    "The building block of superconducting quantum devices is the so called qubit, the quantum analogue of the classical bit. The state of the qubit can be modelled as point on the surface of a three-dimensional Bloch sphere, such that a state $\\vert \\psi\\rangle$ can be written as \n",
    "\n",
    "$$\n",
    "\\vert \\psi \\rangle = \\cos \\frac{\\theta}{2} \\vert 0 \\rangle + e^{i\\phi}\\sin \\frac{\\theta}{2} \\vert 1 \\rangle,\n",
    "$$\n",
    "\n",
    "where $0\\leq\\theta<\\pi$ and $0\\leq\\phi<2\\pi$ corrspond to angles on the Bloch sphere. The state can then be manipulated by rotating the vector using the rotation\n",
    "\n",
    "$$\n",
    "U_3 (\\theta, \\phi, \\lambda) = \\begin{pmatrix} \\cos \\big( \\frac{\\theta}{2} \\big) & - e^{i\\lambda} \\sin \\big( \\frac{\\theta}{2} \\big) \\\\ e^{i\\phi} \\sin \\big( \\frac{\\theta}{2} \\big) & e^{i(\\phi + \\lambda)} \\cos \\big( \\frac{\\theta}{2} \\big) \\end{pmatrix},\n",
    "$$\n",
    "\n",
    "where $e^{i\\lambda}$ is a phase which has observable effect, as only the relative phase between the two basis states $\\vert0\\rangle$ and $\\vert1\\rangle$ has a physical meaning. \n",
    "\n",
    "The $U_3$ rotation is realised in Qiskit using the `QuantumCircuit.u(\\theta, \\phi, \\lambda, qubit)` gate operation, demonstrated below:\n",
    "\n",
    "1) The qubit is initialised in the $\\vert 0 \\rangle$ state\n",
    "2) The $U_3$ rotation is applied with parameters $\\theta = \\pi/2$, $\\phi = \\pi/4$ and $\\lambda = 0$"
   ]
  },
  {
   "cell_type": "code",
   "execution_count": null,
   "id": "88423a1f",
   "metadata": {},
   "outputs": [],
   "source": [
    "#Initilise quantum circuit object with 1 qubit and 1 classical readout bit\n",
    "circuit = QuantumCircuit(1, 1)\n",
    "#Apply U_3 roation\n",
    "circuit.u(np.pi/2, np.pi/4, 0, 0)\n",
    "#Draw circuit\n",
    "circuit.draw('mpl')"
   ]
  },
  {
   "cell_type": "markdown",
   "id": "ed673a82",
   "metadata": {},
   "source": [
    "We can now plot the qubit as a Bloch shere using the `StateVector` method, which provides the statevector of each qubit in the quantum circuit. Here, we only have one qubit and so one Bloch sphere, but we can plot using `plot_bloch_multivector(state)` which will plot a Bloch sphere diagram for all qubits in the circuit."
   ]
  },
  {
   "cell_type": "code",
   "execution_count": null,
   "id": "2b218d7f",
   "metadata": {},
   "outputs": [],
   "source": [
    "#Get state vector from the circuit\n",
    "state = Statevector(circuit)\n",
    "#Plot Bloch sphere\n",
    "plot_bloch_multivector(state)"
   ]
  },
  {
   "cell_type": "markdown",
   "id": "919972f2",
   "metadata": {},
   "source": [
    "We now want to perform a measurement on the qubit and run the circuit on a quantum device. The device we will use here is the `qasm_simulator` available through Aer (runs locally). "
   ]
  },
  {
   "cell_type": "code",
   "execution_count": null,
   "id": "b2864bc4",
   "metadata": {},
   "outputs": [],
   "source": [
    "#Measure qubit to classical bit\n",
    "circuit.measure(0, 0)\n",
    "\n",
    "circuit.draw('mpl')"
   ]
  },
  {
   "cell_type": "code",
   "execution_count": null,
   "id": "fc9be881",
   "metadata": {},
   "outputs": [],
   "source": [
    "#Load the backend we want\n",
    "sim = Aer.get_backend('qasm_simulator')\n",
    "#Run the circuit on the quantum simulator from Aer (runs locally)\n",
    "#for 1000 shots on the device\n",
    "job = execute(circuit, sim, shots=1000)\n",
    "job_monitor(job) #monitors the job's progression (useful when running on IBMQ)\n",
    "#Retrieve the number of counts for each state measured\n",
    "counts = job.result().get_counts()\n",
    "print(counts)"
   ]
  },
  {
   "cell_type": "markdown",
   "id": "eb01e339",
   "metadata": {},
   "source": [
    "We now have a dictionary of counts against measured states (the states are classical bit strings). Here we have used a projective measurement \n",
    "\n",
    "$$\n",
    "\\vert{\\psi}\\rangle \\hspace{5pt} \\longrightarrow{M_m} \\hspace{5pt} \\vert{\\psi^\\prime}\\rangle = \\frac{M_m\\vert{\\psi}\\rangle}{\\sqrt{\\langle{\\psi}\\vert M^\\dagger_m M_m \\vert{\\psi}\\rangle}},\n",
    "$$\n",
    "\n",
    "and thus we must run the circuit many times to build a probability distribution. The `counts` dictionary now contains the information about how many times the system was measured in each possible configuration. We can visualise these counts using the `plot_histogram` method from Qiskit."
   ]
  },
  {
   "cell_type": "code",
   "execution_count": null,
   "id": "85944386",
   "metadata": {},
   "outputs": [],
   "source": [
    "plot_histogram(counts)"
   ]
  },
  {
   "cell_type": "markdown",
   "id": "a5363145",
   "metadata": {},
   "source": [
    "## Multiple qubits\n",
    "\n",
    "The state space of a quantum computer grows exponentially with the number of qubits, such that an $n$-qubit system has $2^n$ basis states in the computational basis. These basis states take the form $\\vert{q_1q_2,\\dots,q_n}\\rangle$, where $q_i\\in\\{0,1\\}$.\n",
    "\n",
    "As a first example, we will construct a Bell state on 2 qubits,\n",
    "\n",
    "$$\n",
    "\\frac{1}{\\sqrt{2}} \\big(\\vert{00}\\rangle + \\vert{11}\\rangle \\big),\n",
    "$$\n",
    "\n",
    "and perform a measurement on the qubits. Here we will use the `QuantumRegister` and `ClassicalRegister` objects, which will be useful when we get to more complicated algorithms. The registers are a collection of (qu)bits which we can pass to the QuantumCircuit operation. It makes our life easier when we have many qubits!  "
   ]
  },
  {
   "cell_type": "code",
   "execution_count": null,
   "id": "f05bedd9",
   "metadata": {},
   "outputs": [],
   "source": [
    "q  = QuantumRegister(2, name='q')\n",
    "qc = ClassicalRegister(2, name='qc')\n",
    "\n",
    "bell_state = QuantumCircuit(q, qc)\n",
    "\n",
    "bell_state.h(q[0])\n",
    "bell_state.cx(q[0],q[1])\n",
    "\n",
    "bell_state.measure(q, qc)\n",
    "\n",
    "bell_state.draw('mpl')"
   ]
  },
  {
   "cell_type": "code",
   "execution_count": null,
   "id": "d28031bc",
   "metadata": {},
   "outputs": [],
   "source": [
    "job = execute(bell_state, sim, shots=1000)\n",
    "job_monitor(job)\n",
    "counts = job.result().get_counts()\n",
    "plot_histogram(counts)"
   ]
  },
  {
   "cell_type": "markdown",
   "id": "19228c6b",
   "metadata": {},
   "source": [
    "The circuit returns the expected measurement of a Bell state. Let us know run this on a real device to see how noise will affect the result. \n",
    "\n",
    "Here we will use the IBM Quantum Experience. If you haven't signed up for an account yet, please skip the next cell!"
   ]
  },
  {
   "cell_type": "code",
   "execution_count": null,
   "id": "536fbe96",
   "metadata": {},
   "outputs": [],
   "source": [
    "from qiskit_ibm_provider import IBMProvider\n",
    "\n",
    "#IBMProvider.save_account('APIKEY', overwrite=True)\n",
    "provider = IBMProvider.load_account()\n",
    "device   = provider.get_backend('ibmq_quito')\n",
    "\n",
    "job = execute(bell_state, device, shots=1000)\n",
    "job_monitor(job)\n",
    "qcounts = job.result().get_counts()\n",
    "plot_histogram([counts, qcounts], legend=['Sim', 'Quito'])"
   ]
  },
  {
   "cell_type": "markdown",
   "id": "68f68052",
   "metadata": {},
   "source": [
    "## Exercise : Build an arbitrary state\n",
    "\n",
    "Can you write a circuit which builds the following state on two qubits?\n",
    "\n",
    "$$\n",
    "\\vert \\psi \\rangle = \\frac{1}{\\sqrt{3}} \\big( \\vert 00 \\rangle + \\vert 10 \\rangle + \\vert 01 \\rangle \\big)\n",
    "$$\n",
    "\n",
    "Can you do this with minimal circuit depth?"
   ]
  },
  {
   "cell_type": "code",
   "execution_count": null,
   "id": "644f37a1",
   "metadata": {},
   "outputs": [],
   "source": [
    "### Solution \n",
    "\n",
    "circuit = QuantumCircuit(2)\n",
    "\n",
    "circuit.u(2*np.arccos(1/np.sqrt(3)), 0, 0, 0)\n",
    "circuit.ch(0,1)\n",
    "circuit.cx(1,0)\n",
    "\n",
    "circuit.measure_all()\n",
    "\n",
    "circuit.draw('mpl')"
   ]
  },
  {
   "cell_type": "code",
   "execution_count": null,
   "id": "6f918d63",
   "metadata": {},
   "outputs": [],
   "source": [
    "job = execute(circuit, sim, shots=1000)\n",
    "job_monitor(job)\n",
    "counts = job.result().get_counts()\n",
    "plot_histogram(counts)"
   ]
  },
  {
   "cell_type": "markdown",
   "id": "7b4e7170",
   "metadata": {},
   "source": [
    "## The SWAP Test\n",
    "\n",
    "First introduced in Refs [1] and [2], the SWAP test is a small algorithm which determines how close two quantum states $\\vert \\phi \\rangle$ and $\\vert \\psi \\rangle$ are. The test is very common in quantum machine learning.\n",
    "\n",
    "The circuit is very simple and consists of three operations on three qubits: the ancilla qubit $a$, the $\\phi$ qubit in the $\\vert \\phi \\rangle$ state, and the $\\psi$ qubit in the $\\vert \\psi \\rangle$ state."
   ]
  },
  {
   "cell_type": "code",
   "execution_count": null,
   "id": "2bc7491d",
   "metadata": {},
   "outputs": [],
   "source": [
    "phi = QuantumRegister(1, name='p')\n",
    "psi = QuantumRegister(1, name='q')\n",
    "a   = QuantumRegister(1, name='a')\n",
    "\n",
    "swapTest = QuantumCircuit(a, phi, psi)\n",
    "\n",
    "swapTest.h(a)\n",
    "swapTest.cswap(a, phi, psi)\n",
    "swapTest.h(a)\n",
    "\n",
    "swapTest.draw('mpl')"
   ]
  },
  {
   "cell_type": "markdown",
   "id": "ac17179b",
   "metadata": {},
   "source": [
    "The first Hadamard operaton puts the ancilla qubit $a$ into a linear superposition of the computation basis\n",
    "\n",
    "$$\n",
    "\\vert 0 \\rangle \\otimes \\vert \\phi \\rangle \\otimes \\vert \\psi \\rangle \\xrightarrow{H} \\frac{1}{\\sqrt{2}} \\big(\\vert 0 \\rangle + \\vert 1 \\rangle\\big) \\otimes \\vert \\phi \\rangle \\otimes \\vert \\psi \\rangle.\n",
    "$$\n",
    "\n",
    "The controlled-SWAP gate is then applied across all three qubits, controlled from the ancilla. If the ancilla is in the $\\vert 1 \\rangle$ state, the SWAP operation is applied to the $p$ and $q$ qubits, swapping the states of the qubits.\n",
    "\n",
    "$$\n",
    "\\frac{1}{\\sqrt{2}} \\big(\\vert 0 \\rangle + \\vert 1 \\rangle\\big) \\otimes \\vert \\phi \\rangle \\otimes \\vert \\psi \\rangle \\xrightarrow{cSWAP} \\frac{1}{\\sqrt{2}} \\vert 0 \\rangle \\otimes \\vert \\phi \\rangle \\otimes \\vert \\psi \\rangle + \\frac{1}{\\sqrt{2}} \\vert 1 \\rangle \\otimes \\vert \\psi \\rangle \\otimes \\vert \\phi \\rangle.\n",
    "$$\n",
    "\n",
    "A second Hadamard gate is then applied to the ancilla qubit\n",
    "\n",
    "$$\n",
    "\\frac{1}{\\sqrt{2}} \\vert 0 \\rangle \\otimes \\vert \\phi \\rangle \\otimes \\vert \\psi \\rangle + \\frac{1}{\\sqrt{2}} \\vert 1 \\rangle \\otimes \\vert \\psi \\rangle \\otimes \\vert \\phi \\rangle \\xrightarrow{H} \\frac{1}{2} \\Bigg( \\big(\\vert 0 \\rangle + \\vert 1 \\rangle \\big) \\otimes \\vert \\phi \\rangle \\otimes \\vert \\psi \\rangle + \\big(\\vert 0 \\rangle - \\vert 1 \\rangle \\big) \\otimes \\vert \\psi \\rangle \\otimes \\vert \\phi \\rangle \\Bigg). \n",
    "$$\n",
    "\n",
    "Therefore, we can see that if $\\vert \\phi \\rangle = \\vert \\psi \\rangle$ then a measurement of the ancilla will yield the $\\vert 0 \\rangle$ with certainty. If the states are orthogonal, then one will measure an equal superposition of $\\vert 0 \\rangle$ and $\\vert 1 \\rangle$ on the ancilla. "
   ]
  },
  {
   "cell_type": "code",
   "execution_count": null,
   "id": "6234cd20",
   "metadata": {},
   "outputs": [],
   "source": [
    "ac = ClassicalRegister(1, name='ac')\n",
    "swapTest = QuantumCircuit(a, phi, psi, ac)\n",
    "\n",
    "swapTest.h(a)\n",
    "swapTest.cswap(a, phi, psi)\n",
    "swapTest.h(a)\n",
    "\n",
    "swapTest.measure(a, ac)\n",
    "swapTest.draw('mpl')"
   ]
  },
  {
   "cell_type": "code",
   "execution_count": null,
   "id": "345c8756",
   "metadata": {},
   "outputs": [],
   "source": [
    "job = execute(swapTest, sim, shots=1000)\n",
    "job_monitor(job)\n",
    "counts = job.result().get_counts()\n",
    "plot_histogram(counts)"
   ]
  },
  {
   "cell_type": "code",
   "execution_count": null,
   "id": "7a2489d0",
   "metadata": {},
   "outputs": [],
   "source": [
    "ac = ClassicalRegister(1, name='ac')\n",
    "swapTest = QuantumCircuit(a, phi, psi, ac)\n",
    "\n",
    "swapTest.x(phi)\n",
    "\n",
    "swapTest.h(a)\n",
    "swapTest.cswap(a, phi, psi)\n",
    "swapTest.h(a)\n",
    "\n",
    "swapTest.measure(a, ac)\n",
    "swapTest.draw('mpl')"
   ]
  },
  {
   "cell_type": "code",
   "execution_count": null,
   "id": "b74d9848",
   "metadata": {},
   "outputs": [],
   "source": [
    "job = execute(swapTest, sim, shots=1000)\n",
    "job_monitor(job)\n",
    "counts = job.result().get_counts()\n",
    "plot_histogram(counts)"
   ]
  },
  {
   "cell_type": "markdown",
   "id": "06cf9d21",
   "metadata": {},
   "source": [
    "## Calculating an Inner Product with the SWAP test\n",
    "\n",
    "Now, let us consider the scenario where we want to calculate the inner product of the states $\\vert \\phi \\rangle$ and $\\vert \\psi \\rangle$, we can do this using the SWAP test. Rewriting the final state from above, we can see that the final state is\n",
    "\n",
    "$$\n",
    "\\frac{1}{2}\\vert 0 \\rangle \\otimes \\big( \\vert \\phi \\rangle \\otimes \\vert \\psi \\rangle + \\vert \\psi \\rangle \\otimes \\vert \\phi \\rangle \\big) + \\frac{1}{2}\\vert 1 \\rangle \\otimes \\big( \\vert \\phi \\rangle \\otimes \\vert \\psi \\rangle - \\vert \\psi \\rangle \\otimes \\vert \\phi \\rangle\\big).\n",
    "$$\n",
    "\n",
    "The probability of measuring the $\\vert 0 \\rangle$ on the ancilla qubit is therefore\n",
    "\n",
    "$$\n",
    "\\textrm{Prob}( a = 0 ) = \\frac{1}{2} + \\frac{1}{2}\\vert \\langle \\psi \\vert \\phi \\rangle \\vert ^2 ,\n",
    "$$\n",
    "\n",
    "which we can use to estimate the value of $\\vert \\langle \\psi \\vert \\phi \\rangle \\vert ^2 $ to arbitrary accuracy as the number of shots on the device increases.   "
   ]
  },
  {
   "cell_type": "markdown",
   "id": "8737431d",
   "metadata": {},
   "source": [
    "## Exercise: Calculate an inner product\n",
    "\n",
    "Calculate the inner product of two states $\\vert \\phi \\rangle$ and $\\vert \\psi \\rangle$ of your own choosing using what you have learned in this notebook. \n",
    "\n",
    "Hints:\n",
    "\n",
    "First you need to initialise the two states $\\vert \\phi \\rangle$ and $\\vert \\psi \\rangle$ using the single qubit rotations from the start of the notebook.\n",
    "\n",
    "Then you need to apply the SWAP test and then do postprocessing of the results to calculate the inner product. \n",
    "\n",
    "Use the simulator to remove the need for error mitigation."
   ]
  },
  {
   "cell_type": "code",
   "execution_count": null,
   "id": "65457acb",
   "metadata": {},
   "outputs": [],
   "source": [
    "### Your code here"
   ]
  },
  {
   "cell_type": "code",
   "execution_count": null,
   "id": "99b3c7c2",
   "metadata": {},
   "outputs": [],
   "source": [
    "### Your code here"
   ]
  },
  {
   "cell_type": "code",
   "execution_count": null,
   "id": "58d6a2d7",
   "metadata": {},
   "outputs": [],
   "source": [
    "### Your code here"
   ]
  },
  {
   "cell_type": "markdown",
   "id": "48b35962",
   "metadata": {},
   "source": [
    "[1] Adriano Barenco, André Berthiaume, David Deutsch, Artur Ekert, Richard Jozsa, and Chiara Macchiavello, Stabilization of Quantum Computations by Symmetrization, https://doi.org/10.1137/S0097539796302452\n",
    "\n",
    "[2] Harry Buhrman, Richard Cleve, John Watrous, and Ronald de Wolf, Quantum Fingerprinting, 10.1103/PhysRevLett.87.167902"
   ]
  },
  {
   "cell_type": "markdown",
   "id": "2b0637cc",
   "metadata": {},
   "source": [
    "# PennyLane\n",
    "\n",
    "PennyLane is another open source quantum computing language which is very useful for machine learning techniques. In this notebook we will go over the basics of building and executing a circuit in PennyLane."
   ]
  },
  {
   "cell_type": "markdown",
   "id": "86bccc0c",
   "metadata": {},
   "source": [
    "Here we will use the PennyLane rotations to manipulate a single qubit state. The aim is to construct the state \n",
    "\n",
    "$$\n",
    "\\vert \\psi \\rangle = R_y(\\theta) R_x (\\phi) \\vert 0 \\rangle,\n",
    "$$\n",
    "\n",
    "where the rotations have the form\n",
    "\n",
    "$$\n",
    "R_x(\\phi) = e^ {- i \\phi \\sigma_x/2} = \\begin{pmatrix} \\cos \\frac{\\phi}{2} & -i\\sin \\frac{\\phi}{2} \\\\ -i\\sin \\frac{\\phi}{2} & \\cos \\frac{\\phi}{2} \\end{pmatrix},  \\hspace{5cm} R_y (\\theta) = e^{-i \\theta \\sigma_y/2} = \\begin{pmatrix} \\cos \\frac{\\theta}{2} & -\\sin \\frac{\\theta}{2} \\\\ \\sin \\frac{\\theta}{2} & \\cos \\frac{\\theta}{2} \\end{pmatrix}.\n",
    "$$\n",
    "\n",
    "Unlike Qiskit, in PennyLane, you must always return a measurement operation. Therefore, in this example, we will measure the expectation value of the Pauli-Z operator, $\\sigma_z$, such that \n",
    "\n",
    "$$\n",
    "\\langle \\psi \\vert \\sigma_z \\vert \\psi \\rangle = \\langle 0 \\vert R_x^\\dagger (\\phi) R_y^\\dagger (\\theta \\sigma_z R_y(\\theta) R_x (\\phi) \\vert 0 \\rangle = \\cos \\phi \\cos \\theta.\n",
    "$$\n",
    "\n",
    "Let's now encode this onto a circuit using PennyLane."
   ]
  },
  {
   "cell_type": "code",
   "execution_count": 1,
   "id": "4c4a6018",
   "metadata": {},
   "outputs": [],
   "source": [
    "import pennylane as qml\n",
    "from pennylane import numpy as npl"
   ]
  },
  {
   "cell_type": "markdown",
   "id": "6d591ebb",
   "metadata": {},
   "source": [
    "When coding using PennyLane, it is always important to import the wrapped version of NumPy from Pennylane. To not conflict with the above, we import this version as `npl`. This wrapped version allows you to:\n",
    "\n",
    "- combine quantum functions (evaluated on quantum hardware/simulators) and classical functions (provided by NumPy)\n",
    "- allow PennyLane to automatically calculate gradients of both classical and quantum functions"
   ]
  },
  {
   "cell_type": "markdown",
   "id": "5ffcb3c3",
   "metadata": {},
   "source": [
    "## Creating a device\n",
    "\n",
    "To start, we must first create a `device` object. This is analogous to loading a backend in Qiskit. For this example, we will use the qubit system with one wire, which is one qubit in the PennyLane language. "
   ]
  },
  {
   "cell_type": "code",
   "execution_count": 2,
   "id": "8f4399ce",
   "metadata": {},
   "outputs": [],
   "source": [
    "dev1 = qml.device(\"default.qubit\", wires=1)"
   ]
  },
  {
   "cell_type": "markdown",
   "id": "3fdc1806",
   "metadata": {},
   "source": [
    "## Constructing a QNode\n",
    "\n",
    "Once we have created a device, we must now construct a quantum node ([QNode](https://docs.pennylane.ai/en/stable/code/api/pennylane.QNode.html#pennylane.QNode)). QNodes are an abstract encapsulation of a quantum function, described by a quantum circuit. QNodes are bound to a particular quantum device, which is used to evaluate expectation and variance values of this circuit."
   ]
  },
  {
   "cell_type": "code",
   "execution_count": 3,
   "id": "dde4f3d6",
   "metadata": {},
   "outputs": [],
   "source": [
    "@qml.qnode(dev1, interface=\"autograd\")\n",
    "def circuit(params):\n",
    "    qml.RX(params[0], wires=0)\n",
    "    qml.RY(params[1], wires=0)\n",
    "    return qml.expval(qml.PauliZ(0))"
   ]
  },
  {
   "cell_type": "markdown",
   "id": "6f2b51bc",
   "metadata": {},
   "source": [
    "Here we have defined two things. Firstly, we have to construct the quantum function that is to be evaluated by the QNode. Here we build a simple circuit consisting of two rotations, $R_X$ followed by $R_Y$. Building circuits in PennyLane is analogous to Qiskit, however the the circuit function must return either a single or a tuple of measured observables. This reduces the flexibility in building circuits that is on offer from Qiskit, however PennyLane is very powerful when it comes to Quantum Machine Learning. \n",
    "\n",
    "Secondly, we must then convert the circuit into a QNode using the `qnode` function. This must be constructed directly above the quantum function definition. Here we define our `circuit` function as a QNode which will run on the `dev1` device each time it is evaluated. \n",
    "\n",
    "To evaluate, we just call the quantum function:"
   ]
  },
  {
   "cell_type": "code",
   "execution_count": 4,
   "id": "68f82ba6",
   "metadata": {},
   "outputs": [
    {
     "name": "stdout",
     "output_type": "stream",
     "text": [
      "0.6702170547483379\n"
     ]
    }
   ],
   "source": [
    "phi    = 0.34\n",
    "theta  = 0.78\n",
    "result = circuit([phi, theta]) \n",
    "print(result)"
   ]
  },
  {
   "cell_type": "markdown",
   "id": "c30d71df",
   "metadata": {},
   "source": [
    "## Calculating gradients\n",
    "\n",
    "PennyLane allows for seemless integration of quantum circuits with classsical computing techniques. PennyLane incorporates both analytic differentiation, as well as numerical methods to calculate the gradients of a quantum circuit. This is done using the `grad` function"
   ]
  },
  {
   "cell_type": "code",
   "execution_count": 5,
   "id": "949b07d9",
   "metadata": {},
   "outputs": [],
   "source": [
    "dcircuit = qml.grad(circuit, argnum=0)"
   ]
  },
  {
   "cell_type": "markdown",
   "id": "03f351c3",
   "metadata": {},
   "source": [
    "where the `grad` function returns another QNode representing the gradient of the circuit. We can evaluate this QNode in the same way as above"
   ]
  },
  {
   "cell_type": "code",
   "execution_count": 7,
   "id": "695b0d6d",
   "metadata": {},
   "outputs": [
    {
     "name": "stdout",
     "output_type": "stream",
     "text": [
      "[array(-0.23708049), array(-0.66301995)]\n"
     ]
    }
   ],
   "source": [
    "gradient = dcircuit([phi, theta])\n",
    "print(gradient)"
   ]
  },
  {
   "cell_type": "markdown",
   "id": "868bf032",
   "metadata": {},
   "source": [
    "## Simple Optimisation\n",
    "\n",
    "PennyLane has in-built optimisers which can be used within the PennyLane language to optimise quantum circuits. Here we use the circuit from above and optimise $\\phi$ and $\\theta$ to get a circuit which rotates the state $\\vert 0 \\rangle$ to the $\\vert 1 \\rangle$ state. In terms of our measurement of the Pauli-Z operator, this means rotating from the measurement of $1$ to $-1$. \n",
    "\n",
    "Here we can define our cost function simply as the output of the circuit, as the measurement of the expectation value of the Pauli-Z operator is bounded between [-1, 1]. "
   ]
  },
  {
   "cell_type": "code",
   "execution_count": 8,
   "id": "39d67e6e",
   "metadata": {},
   "outputs": [],
   "source": [
    "def cost(x):\n",
    "    return circuit(x)"
   ]
  },
  {
   "cell_type": "markdown",
   "id": "cf1936ee",
   "metadata": {},
   "source": [
    "We now define some initial values which give us a result close to 1, thus the $\\vert 0 \\rangle$ state. "
   ]
  },
  {
   "cell_type": "code",
   "execution_count": 10,
   "id": "1421412b",
   "metadata": {},
   "outputs": [
    {
     "name": "stdout",
     "output_type": "stream",
     "text": [
      "0.9998675058299389\n"
     ]
    }
   ],
   "source": [
    "init_params = npl.array([0.011, 0.012], requires_grad=True)\n",
    "print(cost(init_params))"
   ]
  },
  {
   "cell_type": "markdown",
   "id": "c492677b",
   "metadata": {},
   "source": [
    "Note: here you must be careful not to use `np` and use `npl`. \n",
    "\n",
    "We now perform an optimisation to get create a circuit which rotates the qubit to the $\\vert 1 \\rangle$ state. "
   ]
  },
  {
   "cell_type": "code",
   "execution_count": 11,
   "id": "54809c68",
   "metadata": {},
   "outputs": [
    {
     "name": "stdout",
     "output_type": "stream",
     "text": [
      "Cost after step     5:  0.9961778\n",
      "Cost after step    10:  0.8974944\n",
      "Cost after step    15:  0.1440490\n",
      "Cost after step    20: -0.1536720\n",
      "Cost after step    25: -0.9152496\n",
      "Cost after step    30: -0.9994046\n",
      "Cost after step    35: -0.9999964\n",
      "Cost after step    40: -1.0000000\n",
      "Cost after step    45: -1.0000000\n",
      "Cost after step    50: -1.0000000\n",
      "Cost after step    55: -1.0000000\n",
      "Cost after step    60: -1.0000000\n",
      "Cost after step    65: -1.0000000\n",
      "Cost after step    70: -1.0000000\n",
      "Cost after step    75: -1.0000000\n",
      "Cost after step    80: -1.0000000\n",
      "Cost after step    85: -1.0000000\n",
      "Cost after step    90: -1.0000000\n",
      "Cost after step    95: -1.0000000\n",
      "Cost after step   100: -1.0000000\n",
      "Optimized rotation angles: [7.15266381e-18 3.14159265e+00]\n"
     ]
    }
   ],
   "source": [
    "### Initialise the optimizer\n",
    "opt = qml.GradientDescentOptimizer(stepsize=0.4) # we use a good lr\n",
    "\n",
    "steps = 100\n",
    "\n",
    "### Set the initial parameter values\n",
    "params = init_params\n",
    "\n",
    "### Perform optimisation, updating the parameters at each step\n",
    "for i in range(steps):\n",
    "    params = opt.step(cost, params)\n",
    "\n",
    "    if (i + 1) % 5 == 0:\n",
    "        print(\"Cost after step {:5d}: {: .7f}\".format(i + 1, cost(params)))\n",
    "\n",
    "print(\"Optimized rotation angles: {}\".format(params))"
   ]
  },
  {
   "cell_type": "markdown",
   "id": "1545a0b7",
   "metadata": {},
   "source": [
    "We see that, to get a state of $\\vert 1 \\rangle$ we must rotate the system by $R_X(0)$ and $R_Y(\\pi)$, which makes sense as\n",
    "\n",
    "$$\n",
    "\\langle \\psi \\vert \\sigma_z \\vert \\psi \\rangle = \\cos \\phi \\cos \\theta.\n",
    "$$"
   ]
  },
  {
   "cell_type": "markdown",
   "id": "edd63383",
   "metadata": {},
   "source": [
    "## Exercise:\n",
    "\n",
    "Here we used the fact that $-1$ is the optimal answer to our question, however what do we do if we wanted to achieve a state \n",
    "\n",
    "$$\n",
    "\\frac{1}{\\sqrt{2}} \\Big( \\vert 0 \\rangle + \\vert 1 \\rangle \\Big).\n",
    "$$\n",
    "\n",
    "How would this change the cost function? Can you write up an optimisation to achive this state, sometimes called the $\\vert + \\rangle$ state. "
   ]
  },
  {
   "cell_type": "code",
   "execution_count": null,
   "id": "f88315e3",
   "metadata": {},
   "outputs": [],
   "source": []
  }
 ],
 "metadata": {
  "kernelspec": {
   "display_name": "pyQML",
   "language": "python",
   "name": "pyqml"
  },
  "language_info": {
   "codemirror_mode": {
    "name": "ipython",
    "version": 3
   },
   "file_extension": ".py",
   "mimetype": "text/x-python",
   "name": "python",
   "nbconvert_exporter": "python",
   "pygments_lexer": "ipython3",
   "version": "3.10.11"
  }
 },
 "nbformat": 4,
 "nbformat_minor": 5
}
